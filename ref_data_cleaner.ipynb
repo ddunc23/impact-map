{
 "cells": [
  {
   "cell_type": "code",
   "execution_count": 2,
   "metadata": {},
   "outputs": [],
   "source": [
    "import json\n",
    "import requests"
   ]
  },
  {
   "cell_type": "code",
   "execution_count": 9,
   "metadata": {},
   "outputs": [],
   "source": [
    "url = 'http://api.geonames.org/getJSON?geonameId=2653941&username=ddunc23&style=full'\n",
    "cam = requests.get(url)"
   ]
  },
  {
   "cell_type": "code",
   "execution_count": 11,
   "metadata": {},
   "outputs": [],
   "source": [
    "cam = json.loads(cam.text)"
   ]
  },
  {
   "cell_type": "code",
   "execution_count": 14,
   "metadata": {},
   "outputs": [
    {
     "data": {
      "text/plain": [
       "'52.2'"
      ]
     },
     "execution_count": 14,
     "metadata": {},
     "output_type": "execute_result"
    }
   ],
   "source": [
    "cam['lat']"
   ]
  },
  {
   "cell_type": "code",
   "execution_count": 2,
   "metadata": {},
   "outputs": [],
   "source": [
    "ref_data = {}"
   ]
  },
  {
   "cell_type": "code",
   "execution_count": 3,
   "metadata": {},
   "outputs": [],
   "source": [
    "with open('ucl_ref_data.json', 'r') as myfile:\n",
    "    data=myfile.read()"
   ]
  },
  {
   "cell_type": "code",
   "execution_count": 4,
   "metadata": {},
   "outputs": [],
   "source": [
    "data = json.loads(data)"
   ]
  },
  {
   "cell_type": "code",
   "execution_count": 16,
   "metadata": {},
   "outputs": [],
   "source": [
    "for cs in data:\n",
    "    if (len(cs['UKLocation'])) > 0:\n",
    "        for loc in cs['UKLocation']:\n",
    "            geo_names_id = loc['GeoNamesId']\n",
    "            url = 'http://api.geonames.org/getJSON?geonameId={0}&username=ddunc23&style=full'.format(geo_names_id)\n",
    "            loc_data = requests.get(url)\n",
    "            loc_data = json.loads(loc_data.text)\n",
    "            loc['lat'] = loc_data['lat']\n",
    "            loc['lng'] = loc_data['lng']\n",
    "            "
   ]
  },
  {
   "cell_type": "code",
   "execution_count": 19,
   "metadata": {},
   "outputs": [],
   "source": [
    "with open('ucl_ref_data_geolocated.json', 'w') as file:\n",
    "    json.dump(data, file)"
   ]
  },
  {
   "cell_type": "code",
   "execution_count": 25,
   "metadata": {},
   "outputs": [],
   "source": [
    "geolocated_ucl_data = {'type': 'FeatureCollection', 'features': []}\n",
    "\n",
    "for cs in data:\n",
    "    if (len(cs['UKLocation'])) == 1:\n",
    "        feature = {'type': 'Feature', 'geometry': {'type': 'Point', 'coordinates': [float(cs['UKLocation'][0]['lng']), float(cs['UKLocation'][0]['lat'])]}, 'properties': cs}\n",
    "        geolocated_ucl_data['features'].append(feature)"
   ]
  },
  {
   "cell_type": "code",
   "execution_count": 3,
   "metadata": {},
   "outputs": [],
   "source": [
    "with open('ucl_ref_data_geolocated_single_point-grid.geojson', 'r') as file:\n",
    "    data = file.read()\n",
    "\n",
    "data = json.loads(data)"
   ]
  },
  {
   "cell_type": "code",
   "execution_count": 7,
   "metadata": {},
   "outputs": [],
   "source": [
    "from random import randint\n",
    "\n",
    "for f in data['features']:\n",
    "    num = randint(100, 10000)\n",
    "    num = round(num/10)*10\n",
    "    f['properties']['livesTouched'] = num"
   ]
  },
  {
   "cell_type": "code",
   "execution_count": 8,
   "metadata": {},
   "outputs": [
    {
     "name": "stdout",
     "output_type": "stream",
     "text": [
      "7660\n",
      "7320\n",
      "1070\n",
      "6740\n",
      "910\n",
      "6290\n",
      "3130\n",
      "1090\n",
      "560\n",
      "5610\n",
      "9530\n",
      "1610\n",
      "290\n",
      "5460\n",
      "6760\n",
      "7620\n",
      "8170\n",
      "7830\n",
      "7520\n",
      "6240\n",
      "4420\n",
      "5310\n",
      "4730\n",
      "1690\n",
      "8640\n",
      "6390\n",
      "270\n",
      "5500\n",
      "8900\n",
      "4370\n",
      "5300\n",
      "9050\n",
      "5570\n",
      "2820\n",
      "200\n",
      "9230\n",
      "2980\n",
      "7610\n",
      "9280\n",
      "4030\n",
      "2880\n",
      "2680\n",
      "4980\n",
      "3820\n",
      "240\n",
      "610\n",
      "280\n",
      "6180\n",
      "6140\n",
      "5540\n",
      "5280\n",
      "1460\n",
      "6730\n",
      "3300\n",
      "7680\n",
      "3550\n",
      "8380\n",
      "2030\n",
      "4640\n",
      "9060\n",
      "1800\n",
      "2900\n",
      "4550\n",
      "2600\n",
      "9040\n",
      "8340\n",
      "8200\n",
      "2030\n",
      "7620\n",
      "9840\n",
      "3160\n",
      "4540\n"
     ]
    }
   ],
   "source": [
    "for f in data['features']:\n",
    "    print(f['properties']['livesTouched'])"
   ]
  },
  {
   "cell_type": "code",
   "execution_count": 9,
   "metadata": {},
   "outputs": [],
   "source": [
    "with open('ucl_ref_data_geolocated_single_point-grid-randomlives.json', 'w') as file:\n",
    "    json.dump(data, file)"
   ]
  },
  {
   "cell_type": "code",
   "execution_count": null,
   "metadata": {},
   "outputs": [],
   "source": []
  }
 ],
 "metadata": {
  "kernelspec": {
   "display_name": "Python 3",
   "language": "python",
   "name": "python3"
  },
  "language_info": {
   "codemirror_mode": {
    "name": "ipython",
    "version": 3
   },
   "file_extension": ".py",
   "mimetype": "text/x-python",
   "name": "python",
   "nbconvert_exporter": "python",
   "pygments_lexer": "ipython3",
   "version": "3.6.6"
  }
 },
 "nbformat": 4,
 "nbformat_minor": 4
}
