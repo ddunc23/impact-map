{
 "cells": [
  {
   "cell_type": "code",
   "execution_count": 8,
   "metadata": {},
   "outputs": [],
   "source": [
    "import json\n",
    "import requests"
   ]
  },
  {
   "cell_type": "code",
   "execution_count": 9,
   "metadata": {},
   "outputs": [],
   "source": [
    "url = 'http://api.geonames.org/getJSON?geonameId=2653941&username=ddunc23&style=full'\n",
    "cam = requests.get(url)"
   ]
  },
  {
   "cell_type": "code",
   "execution_count": 11,
   "metadata": {},
   "outputs": [],
   "source": [
    "cam = json.loads(cam.text)"
   ]
  },
  {
   "cell_type": "code",
   "execution_count": 14,
   "metadata": {},
   "outputs": [
    {
     "data": {
      "text/plain": [
       "'52.2'"
      ]
     },
     "execution_count": 14,
     "metadata": {},
     "output_type": "execute_result"
    }
   ],
   "source": [
    "cam['lat']"
   ]
  },
  {
   "cell_type": "code",
   "execution_count": 2,
   "metadata": {},
   "outputs": [],
   "source": [
    "ref_data = {}"
   ]
  },
  {
   "cell_type": "code",
   "execution_count": 3,
   "metadata": {},
   "outputs": [],
   "source": [
    "with open('ucl_ref_data.json', 'r') as myfile:\n",
    "    data=myfile.read()"
   ]
  },
  {
   "cell_type": "code",
   "execution_count": 4,
   "metadata": {},
   "outputs": [],
   "source": [
    "data = json.loads(data)"
   ]
  },
  {
   "cell_type": "code",
   "execution_count": 16,
   "metadata": {},
   "outputs": [],
   "source": [
    "for cs in data:\n",
    "    if (len(cs['UKLocation'])) > 0:\n",
    "        for loc in cs['UKLocation']:\n",
    "            geo_names_id = loc['GeoNamesId']\n",
    "            url = 'http://api.geonames.org/getJSON?geonameId={0}&username=ddunc23&style=full'.format(geo_names_id)\n",
    "            loc_data = requests.get(url)\n",
    "            loc_data = json.loads(loc_data.text)\n",
    "            loc['lat'] = loc_data['lat']\n",
    "            loc['lng'] = loc_data['lng']\n",
    "            "
   ]
  },
  {
   "cell_type": "code",
   "execution_count": 19,
   "metadata": {},
   "outputs": [],
   "source": [
    "with open('ucl_ref_data_geolocated.json', 'w') as file:\n",
    "    json.dump(data, file)"
   ]
  },
  {
   "cell_type": "code",
   "execution_count": 25,
   "metadata": {},
   "outputs": [],
   "source": [
    "geolocated_ucl_data = {'type': 'FeatureCollection', 'features': []}\n",
    "\n",
    "for cs in data:\n",
    "    if (len(cs['UKLocation'])) == 1:\n",
    "        feature = {'type': 'Feature', 'geometry': {'type': 'Point', 'coordinates': [float(cs['UKLocation'][0]['lng']), float(cs['UKLocation'][0]['lat'])]}, 'properties': cs}\n",
    "        geolocated_ucl_data['features'].append(feature)"
   ]
  },
  {
   "cell_type": "code",
   "execution_count": 26,
   "metadata": {},
   "outputs": [
    {
     "data": {
      "text/plain": [
       "{'type': 'Feature',\n",
       " 'geometry': {'type': 'Point', 'coordinates': [-1.51217, 52.40656]},\n",
       " 'properties': {'CaseStudyId': '22423',\n",
       "  'Continent': [{'GeoNamesId': '6255148', 'Name': 'Europe'}],\n",
       "  'Country': [{'GeoNamesId': '2635167', 'Name': 'United Kingdom'}],\n",
       "  'Funders': ['Medical Research Council'],\n",
       "  'ImpactDetails': '\\n    a) Development and on-going review of the UK universal child vision\\n        screening programme\\n    Our research findings provided the first robust evidence base for the UK\\n      National Screening Committee\\'s policy on universal childhood vision\\n      screening and surveillance. This has led to the revised programme status\\n      and standards for the Newborn and Infant Physical Examination Programme\\n      (NIPE) and discontinuation of 9-month and pre-school vision screening\\n      examinations [a]. More recently we have completed a commissioned\\n      systematic review for the National Screening Committee (NSC) which is\\n      currently forming the basis of their policy review of the content and\\n      timing of the 4-5 year/school entry vision screening examination [b].\\n    b) Improving the quality of paediatric ophthalmology services\\n    Our work has underpinned the development of new quality standards for\\n      paediatric ophthalmology services. A number of our publications are cited\\n      in the Royal College of Ophthalmologists (RCOphth) standing report,\\n      Ophthalmic Services for Children (Updated August 2012) for which Rahi\\n      acted also acted as reviewer. Our work provides epidemiological background\\n      and supports recommendations on the involvement of parents, on the early\\n      detection of ophthalmic disorders and on certifying children as\\n      sight-impaired [c]. Our study of the needs and experiences of\\n      families of newly diagnosed visually impaired children informed the\\n      successful implementation of a novel regional-level `key worker\\' service,\\n      the Great Ormond Street Hospital (GOSH) Ophthalmology Community Link Team,\\n      which provides information, support and liaison to families of our\\n      patients [d]. This was taken as a model of key worker provision\\n      and cited in the above document.\\n    Following on from this, Rahi helped to develop Quality Standards for\\n      Paediatric Ophthalmology on behalf of RCOphth [e]. These quality\\n      standards are now in regular use in clinical practice. For example, this\\n      can be seen on the GOSH website, which describes how it has measured its\\n      services against the Quality Indicator Tool that we helped to develop [f].\\n    In 2012, Rahi contributed to the first Atlas of Variation in Healthcare\\n      for Children and Young people which was produced by the Department of\\n      Health\\'s QIPP (Quality, Innovation, Productivity and Prevention) programme.\\n      This document presented variations across the breadth of child health\\n      services provided by NHS England together for the first time to allow\\n      clinicians, commissioners and service users to identify priority areas for\\n      improving outcome, quality and productivity. Map 7 highlighted variation\\n      in the proportion of eligible premature babies tested for retinopathy of\\n      prematurity (ROP) within the recommended timeframe, and made\\n      recommendations on improving services [g].\\n    c) Improving the management of congenital cataract\\n    Congenital cataract is the most common surgically treatable cause of\\n      childhood visual impairment worldwide. Our studies on congenital cataract\\n      have been conducted through the British Congenital Cataract Interest\\n      Group, a network comprising over 150 ophthalmologists which we established\\n      in 1995. This has led to timely implementation of findings to improve\\n      clinical practices and provide improved outcomes information for parents\\n      of affected infants [h]. For example, during our ongoing research\\n      on intraocular lens implantation, we have used this network to spread use\\n      of the data collection forms that we developed as part of the study. These\\n      are now more widely used as routine clinical pro-formas for patient case\\n      notes, leading to standardisation of key aspects of management nationally.\\n      GOSH, for example, report that:\\n    \"The per-operative data entry proforma currently used by our surgeons\\n        at GOSH was developed as part of the IOLu2 [Intraocular lens under 2]\\n        study by Dr Lola Solebo in 2009... Not only is [it] still used and can\\n        be sampled for future studies it is now used by all the other surgeons\\n        in the team... The team has found it promotes good record keeping when\\n        performing childhood cataract surgery... It has also be shared with many\\n        other centres through our lectures and when we have visiting\\n        ophthalmologists. The proforma helps the department to enter clinical\\n        data in an efficient, standardised and thorough manner\" [i].\\n    d) Improving patient involvement in research\\n    Our research over the years has directly involved service users and\\n      patient groups. For example, our systematic review of Patient-reported\\n      outcome measures (PROMs) in paediatric ophthalmology involved a service\\n      user (visually impaired herself and parent of a visually impaired child)\\n      as a co-investigator [j].\\n    In the first stage of our work to develop our `quality of life\\'\\n      instrument, we worked with the pupils in the Visual Impairment unit at\\n      Exhall Grange, a specialist school in Coventry that caters for children\\n      and young people with a range of disabilities. Specifically, we conducted\\n      focus groups and interviews with these pupils to help us identify the\\n      content for our instrument. In the focus groups we elicited the children\\'s\\n      thoughts and views about the impact of living with visual disability. The\\n      mobility officer working with these children, who helped facilitate the\\n      focus group discussion, was struck by how much the children opened up\\n      about their lives and felt there was a broader benefit of this context.\\n      Subsequently, he reported to us that as a result of this experience, the\\n      Visual Impairment unit initiated a `forum for the visually impaired\\n      pupils\\' where the pupils meet weekly or monthly for an `around the table\\'\\n      discussion of any issues that they might have (modelled on their\\n      participation in our research). Finally, the school was commended by\\n      Ofsted for this initiative [k].\\n    ',\n",
       "  'ImpactSummary': '\\n    Our research into the epidemiology of childhood visual impairment has\\n      transformed understanding of the epidemiology, outcomes and impact of\\n      childhood visual impairment in the UK. As a result, changes have been made\\n      to the Newborn and Infant Physical Examination Programme and the National\\n      Vision Screening Programme. Our work has underpinned the development of\\n      new quality standards for paediatric ophthalmology services issued by the\\n      Royal College of Ophthalmologists. Our studies on congenital cataract have\\n      improved the management of this condition nationally. We have involved\\n      visually impaired service users and patient groups directly in our\\n      research to improve quality of life measures and patient engagement.\\n    ',\n",
       "  'ImpactType': 'Health',\n",
       "  'Institution': '\\n    University College London\\n    ',\n",
       "  'Institutions': [{'AlternativeName': 'University College London',\n",
       "    'InstitutionName': 'University College London',\n",
       "    'PeerGroup': 'A',\n",
       "    'Region': 'London',\n",
       "    'UKPRN': 10007784}],\n",
       "  'Panel': 'A         ',\n",
       "  'PlaceName': [],\n",
       "  'References': \"\\n    \\n[1] Rahi JS, Cable N; British Childhood Visual Impairment Study Group.\\n      Severe visual impairment and blindness in children in the UK. Lancet. 2003\\n      Oct 25;362(9393):1359-65. http://dx.doi.org/10.1016/S0140-6736(03)14631-4\\n    \\n\\n[2] Rahi JS, Cumberland PM, Peckham CS; British Childhood Visual\\n      Impairment Interest Group. Improving detection of blindness in childhood:\\n      the British Childhood Vision Impairment study. Pediatrics. 2010\\n      Oct;126(4):e895-903. http://dx.doi.org/10.1542/peds.2010-0498\\n    \\n\\n[3] Rahi JS, Cumberland PM, Peckham CS. Does amblyopia affect\\n      educational, health, and social outcomes? Findings from 1958 British birth\\n      cohort. BMJ. 2006 Apr 8;332(7545):820-5. http://dx.doi.org/10.1136/bmj.38751.597963.AE\\n    \\n\\n[4] Rahi J, Logan S, Timms C, Russell-Eggitt I, Taylor D. Risk, causes,\\n      and outcomes of visual impairment after loss of vision in the\\n      non-amblyopic eye: a population-based study. Lancet. 2002 Aug\\n      24;360(9333):597-602. http://dx.doi.org/10.1016/S0140-6736(02)09782-9\\n    \\n\\n[5] Chak M, Wade A, Rahi JS; British Congenital Cataract Interest Group.\\n      Long-term visual acuity and its predictors after surgery for congenital\\n      cataract: findings of the British congenital cataract study. Invest\\n      Ophthalmol Vis Sci. 2006 Oct;47(10):4262-9. http://doi.org/ddj6gh\\n    \\n\\n[6] Rahi JS, Tadi&#263; V, Keeley S, Lewando-Hundt G; Vision-related Quality\\n      of Life Group. Capturing children and young people's perspectives to\\n      identify the content for a novel vision-related quality of life\\n      instrument. Ophthalmology. 2011 May;118(5):819-24. http://doi.org/ch4fxm\\n    \\n\",\n",
       "  'ResearchSubjectAreas': [{'Level1': '11',\n",
       "    'Level2': '13',\n",
       "    'Subject': 'Ophthalmology and Optometry'},\n",
       "   {'Level1': '11',\n",
       "    'Level2': '17',\n",
       "    'Subject': 'Public Health and Health Services'}],\n",
       "  'Sources': '\\n    [a] The Clinical Director of the NIPE screening programme states: \"Professor\\n        Rahi has played a major role in relation to the Newborn and Infant\\n        Physical Examination. On behalf of the National Screening Committee, she\\n        and her team have reviewed the evidence relating to screening for vision\\n        and ocular abnormalities in preschool children. The review and her other\\n        contributions, have allowed us to strengthen and improve screening where\\n        there is evidence to support it, while we have been able to cease\\n        screening at ages when there is no benefit to be had.\" Copy\\n      of email available on request.\\n    [b] http://www.screening.nhs.uk/vision-child\\n      The Director of the National Screening Committee (Public Health England)\\n      has confirmed in an email that \"The UKNSC commissioned a review of\\n        vision screening in 4-5 years olds from Jugnoo Rahi. This work has been\\n        developed in close collaboration with the UKNSC. It has been consulted\\n        on through the UKNSC process and will form the basis of a policy\\n        recommendation to be made by the UKNSC in November 2013.\" Copy of\\n      email available on request.\\n    [c] http://www.rcophth.ac.uk/core/core_picker/download.asp?id=125\\n      Guidance cites the following:\\n    \\n      Citing Rahi J et al. Meeting the needs of parents around the time of\\n        diagnosis of disability in their children: evaluation of a novel scheme\\n        for information, support and liaison by key workers. Pediatrics\\n        2004;114:e477-82. Supports recommendation: \"Parental advocacy\\n          should be supported and encouraged through provision of information\\n          and social and emotional support, both in the context of the\\n          management of individual children as well as more broadly in relation\\n          to the planning of ophthalmic services for children with visual\\n          impairment\"\\n      Citing [1]. Supports the observation that: \"The\\n          majority of children in the UK with severe visual\\n          impairment/blindness... have additional and often multiple serious\\n          motor, sensory or learning impairments and/or serious chronic\\n          diseases\".\\n      Citing Rahi J, Dezateux C. Epidemiology of Visual Impairment. In:\\n        David T, ed. Recent Advances in Paediatrics 19. London: Churchill\\n        Livingstone, 2001: 97-114. Research provides epidemiological basis:\\n        \"Thus there are at least 4 newly visually impaired children each day\\n          in the UK and around 2 per 1000 children in a given population are\\n          visually impaired or blind.\"\\n      Citing [2]. Supports the statement: \"The College\\n          endorses the recommendations of the fourth edition of \"Health for all\\n          children\" issued in 2003 and subsequently in the Child Health\\n          Promotion Programme and the Healthy Child Programme regarding\\n          screening, in order to promote early detection of ophthalmic disorders\\n          or reduced vision.\"\\n      Citing Cumberland PM, Peckham CS, Rahi JS. Blindness certification of\\n        children 1 year after diagnosis: findings from the British Childhood\\n        Vision Impairment Study. Br J Ophthalmology. 2010\\n        Dec;94(12):1694-5. Supports recommendation: \"All eligible\\n          children and young persons should be offered certification as\\n          sight-impaired or severely sight impaired where indicated\"\\n    \\n    [d]http://www.gosh.nhs.uk/medical-conditions/clinical-specialties/ophthalmology-information-for-parents-and-visitors/clinics-and-wards/\\n    [e] http://www.rcophth.ac.uk/page.asp?section=444&#167;ionTitle=Quality+Standards\\n    [f] http://www.gosh.nhs.uk/health-professionals/clinical-outcomes/ophthalmology-clinical-outcomes/\\n    [g] Atlas of Variation http://www.rightcare.nhs.uk/index.php/atlas/children-and-young-adults/\\n      and for actual pdf see: https://docs.google.com/file/d/0B8ePB71diJorM0ZMQzVqLWhFUjA\\n      (Rahi is listed on p.84 as a contributor to Map 7).\\n    [h]\\nhttp://www.gosh.nhs.uk/medical-conditions/clinical-specialties/ophthalmology-information-for-parents-and-visitors/clinics-and-wards/\\n    [i] Impacts corroborated by Chris Lloyd, Chair of the Paediatric\\n      Subcommittee of RCOPhth who says: \"the unit at ICH/UCL has been hugely\\n        influential in improving the care of children with congenital\\n        cataracts(CC). You have enabled accurate biostatistical analysis of\\n        children affected by CC &#8212; the most common surgically treatable cause of\\n        childhood visual impairment. This has been facilitated by the\\n        establishment of the British Congenital Cataract Interest Group - a\\n        network comprising over 150 ophthalmologists in the UK and Ireland which\\n        you set up in 1995.\" Copy of email available on request.\\n    [j] Email from Consultant Ophthalmic Surgeon at GOSH. Available on\\n      request.\\n    [k] http://www.invo.org.uk/resource-centre/research-project-database/research-project/?id=750\\n      http://www.invo.org.uk/resource-centre/research-project-database/research-project/?id=753\\n    [l] Copies of correspondence with the Mobility Officer at Exhall Grange\\n      School are available from Centre of Paediatric Epidemiology and\\n      Biostatistics, UCL ICH. Contact details provided. \\n    ',\n",
       "  'Title': '\\n    Applying epidemiology to understand visual impairment in childhood:\\n      burden, aetiology, diagnosis, management and outcomes.\\n    ',\n",
       "  'UKLocation': [{'GeoNamesId': '2652221',\n",
       "    'Name': 'Coventry',\n",
       "    'lat': '52.40656',\n",
       "    'lng': '-1.51217'}],\n",
       "  'UKRegion': [{'GeoNamesId': '6269131', 'Name': 'England'}],\n",
       "  'UOA': 'Public Health, Health Services and Primary Care',\n",
       "  'UnderpinningResearch': \"\\n    About two per 1,000 children in industrialised countries have bilateral\\n      visual impairment, with up to a further five per cent having significant\\n      sight impairment in one eye. Most are affected from birth and will\\n      experience a significant lifelong burden of adverse impact on their\\n      development, education, social and emotional wellbeing, and curtailed\\n      occupational and social prospects, with high attendant economic costs for\\n      affected individuals, their families and society. At the MRC Centre of\\n      Epidemiology for Child Health, we have established an integrated and\\n      innovative programme on childhood visual impairment that encompasses\\n      classical, lifecourse, and genetic epidemiology and health services\\n      research, led by Professor Jugnoo Rahi. Our research has transformed\\n      understanding of the epidemiology, outcomes and impact of childhood visual\\n      impairment in the UK and established a series of novel study-specific\\n      clinical networks (most with 150+ consultant ophthalmologists) for rapid\\n      implementation of findings into practice and policy.\\n    We have undertaken a series of national studies of all-cause visual\\n      impairment and of all of the most common (globally) treatable childhood\\n      ophthalmic disorders i.e. amblyopia, congenital cataract, paediatric\\n      glaucoma, ocular anomalies and hereditary retinal disorders. These have\\n      provided the first population-based data on the frequency, distribution\\n      and natural history of these individual disorders together with unbiased\\n      assessment of effectiveness and safety of treatments.\\n    We have shown for the first time that there are major variations in risk\\n      of visual impairment/eye disorders e.g. by socio-economic status,\\n      ethnicity, birthweight and other early life factors and demonstrated a\\n      growing and increasingly complex population at risk [1, 2].\\n    Our longstanding programme on amblyopia, the most common paediatric eye\\n      condition, has shown that contrary to long-held clinical opinion, there is\\n      remarkably limited disutility per se [3] but that risk of\\n      blindness and its attendant socio-economic consequences occurring through\\n      loss of sight in the non-amblyopic eye is substantial [4].\\n    Our series of studies on congenital cataract have provided for the first\\n      time internationally accepted population based `benchmark' outcomes data\\n      on visual function, quality of life, and complications [5] and\\n      identified the risk factors associated with poor outcomes against a\\n      backdrop of evolving surgical approaches. Most recently we have completed\\n      the first national study of intra-ocular lens implantation in infants, the\\n      key surgical innovation in this field, assessing early visual outcomes\\n      with this new approach compared to established surgical treatment and\\n      identifying the point of `equipoise' for clinicians in their choice of\\n      surgical approach. This study established a unique national cohort which\\n      is providing important early insights into the impact of this new\\n      intervention on visual outcomes and iatrogenic complications. In due\\n      course it will provide unique long-term outcomes data.\\n    Our inter-disciplinary programme to understand the impact of visual\\n      impairment has combined health services research and social sciences,\\n      resulting in innovative child-centred methodology and a novel patient/NHS\\n      user research partnerships which have underpinned our development of the\\n      first child-reported measures of quality of life and of functional vision\\n      [6], which can also be used routinely in the NHS as a tool for\\n      assessing quality and as outcome measures in clinical trials of novel\\n      therapies.\\n    \"}}"
      ]
     },
     "execution_count": 26,
     "metadata": {},
     "output_type": "execute_result"
    }
   ],
   "source": [
    "geolocated_ucl_data['features'][1]"
   ]
  },
  {
   "cell_type": "code",
   "execution_count": 27,
   "metadata": {},
   "outputs": [],
   "source": [
    "with open('ucl_ref_data_geolocated_single_point.geojson', 'w') as file:\n",
    "    json.dump(geolocated_ucl_data, file)"
   ]
  },
  {
   "cell_type": "code",
   "execution_count": null,
   "metadata": {},
   "outputs": [],
   "source": []
  }
 ],
 "metadata": {
  "kernelspec": {
   "display_name": "Python 3",
   "language": "python",
   "name": "python3"
  },
  "language_info": {
   "codemirror_mode": {
    "name": "ipython",
    "version": 3
   },
   "file_extension": ".py",
   "mimetype": "text/x-python",
   "name": "python",
   "nbconvert_exporter": "python",
   "pygments_lexer": "ipython3",
   "version": "3.6.6"
  }
 },
 "nbformat": 4,
 "nbformat_minor": 4
}
